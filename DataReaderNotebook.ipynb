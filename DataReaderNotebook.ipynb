{
 "cells": [
  {
   "cell_type": "code",
   "execution_count": 3,
   "metadata": {
    "scrolled": false
   },
   "outputs": [
    {
     "name": "stdout",
     "output_type": "stream",
     "text": [
      "Data Found!\n",
      "Making items...\n",
      "Finished!\n",
      "Learning...\n",
      "Finished!\n"
     ]
    },
    {
     "data": {
      "image/png": "[encoded data removed]",
      "text/plain": [
       "<matplotlib.figure.Figure at 0x14971347ba8>"
      ]
     },
     "metadata": {},
     "output_type": "display_data"
    },
    {
     "name": "stdout",
     "output_type": "stream",
     "text": [
      "100%\n"
     ]
    }
   ],
   "source": [
    "# %load DataReader.py\n",
    "import xlrd\n",
    "import json\n",
    "from pprint import pprint\n",
    "import matplotlib.pyplot as plt\n",
    "import numpy as np\n",
    "\n",
    "class item(): #Our objects of items with their features\n",
    "\n",
    "    def __init__(self, name, price_history, weapon_type, rarity, wear, stattrak):\n",
    "\n",
    "        self.name = name\n",
    "        self.price_history = price_history\n",
    "        self.weapon_type = weapon_type\n",
    "        self.rarity = rarity\n",
    "        self.wear = wear\n",
    "        self.stattrak = stattrak\n",
    "\n",
    "\n",
    "def makeItems():\n",
    "    print(\"Making items...\")\n",
    "    checker = \" \" #checker will later be set to value in excel file\n",
    "    item_array = [] #our array our objects\n",
    "    y = 1\n",
    "    while(checker != \"NULL\"):  #checks to see if we are at end of excel file\n",
    "        if(str(sheet.cell_value(y, 0)) != \"NULL\"):\n",
    "            string = str(sheet.cell_value(y, 0)) + \" - \" + str(sheet.cell_value(y, 4)) \n",
    "            with open(\"data points/\" + string + \".json\") as data_file: #opens a json file that has the same name as the name attribute\n",
    "                data = json.load(data_file) #loads the content of file, which contains an array of its pricing history\n",
    "                #print(data)\n",
    "            prices = data\n",
    "            thing = item(sheet.cell_value(y, 0), prices, sheet.cell_value(y, 2), sheet.cell_value(y, 3), sheet.cell_value(y, 4), sheet.cell_value(y, 5)) #create an object with all of the dat from json and excel file\n",
    "            item_array.append(thing) #append it to our object list\n",
    "            \n",
    "        y = y + 1 #increment and update our checker for the end of the file\n",
    "        checker = sheet.cell_value(y, 0)\n",
    "    print(\"Finished!\")\n",
    "    return item_array\n",
    "\n",
    "\n",
    "\n",
    "\n",
    "def gsd(data, num_iterations, learning_rate):\n",
    "    init_w = 0\n",
    "    W = []\n",
    "    N = len(data[0].price_history[\"prices\"]) + 4\n",
    "    for i in range(N):\n",
    "        W.append(0)\n",
    "    for i in range(num_iterations - 1):\n",
    "        W = step(data, W, learning_rate, i) #train 50 times\n",
    "\n",
    "\n",
    "def step(data, W, learning_rate, i):\n",
    "    N = len(data[0].price_history[\"prices\"]) + 4\n",
    "    weapon_wears = [\"Battle-Scarred\", \"Well-Worn\", \"Field-Tested\", \"Minimal Wear\", \"Factory New\"]\n",
    "    weapon_rarity = [\"Consumer\", \"Mil-Spec\", \"Industrial\", \"Restricted\", \"Classified\", \"Covert\"]\n",
    "    weapon_type = [\"pistol\", \"smg\", \"rifle\", \"sniper\", \"shotgun\", \"machinegun\", \"knife\"]\n",
    "    data_wear = weapon_wears.index(str(data[i].wear))\n",
    "    data_rarity = weapon_rarity.index(str(data[i].rarity))\n",
    "    data_type = weapon_type.index(str(data[i].weapon_type))\n",
    "    for j in range(N):\n",
    "        return\n",
    "\n",
    "\n",
    "file_location = \"C:/Users/ForceM/AppData/Local/Programs/Python/Python35-32/item_prices/DataReader.xlsx\" #opens a excel file with our data\n",
    "print(\"Data Found!\")\n",
    "workbook = xlrd.open_workbook(file_location)\n",
    "sheet = workbook.sheet_by_index(0)\n",
    "items = []\n",
    "items = makeItems()\n",
    "print(\"Learning...\")\n",
    "learning_rate = 0.001\n",
    "num_iterations = 49\n",
    "gsd(items, num_iterations, learning_rate)\n",
    "print(\"Finished!\")\n",
    "x = []\n",
    "for q in range(len(items[0].price_history['prices'])):\n",
    "    x.append(q)\n",
    "xTicks = []\n",
    "y = []\n",
    "for z in range(len(items[0].price_history['prices'])):\n",
    "    y.append(items[0].price_history['prices'][z][1])\n",
    "plt.plot(x, y)\n",
    "plt.xlabel('Days on Market')\n",
    "plt.ylabel('Average Price Sold')\n",
    "plt.grid(True)\n",
    "plt.savefig(\"test.png\")\n",
    "plt.show()\n",
    "print(\"100%\")\n",
    "    \n"
   ]
  },
  {
   "cell_type": "code",
   "execution_count": 6,
   "metadata": {},
   "outputs": [
    {
     "name": "stdout",
     "output_type": "stream",
     "text": [
      "5\n"
     ]
    }
   ],
   "source": [
    "print(5)"
   ]
  }
 ],
 "metadata": {
  "kernelspec": {
   "display_name": "Python 3",
   "language": "python",
   "name": "python3"
  },
  "language_info": {
   "codemirror_mode": {
    "name": "ipython",
    "version": 3
   },
   "file_extension": ".py",
   "mimetype": "text/x-python",
   "name": "python",
   "nbconvert_exporter": "python",
   "pygments_lexer": "ipython3",
   "version": "3.6.1"
  }
 },
 "nbformat": 4,
 "nbformat_minor": 2
}
