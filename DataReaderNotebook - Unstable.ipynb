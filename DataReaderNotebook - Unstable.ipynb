{
 "cells": [
  {
   "cell_type": "code",
   "execution_count": 29,
   "metadata": {
    "scrolled": true
   },
   "outputs": [
    {
     "name": "stdout",
     "output_type": "stream",
     "text": [
      "Data Found!\n",
      "Making items...\n",
      "Finished!\n",
      "Learning...\n"
     ]
    },
    {
     "ename": "TypeError",
     "evalue": "'builtin_function_or_method' object is not subscriptable",
     "output_type": "error",
     "traceback": [
      "\u001b[1;31m---------------------------------------------------------------------------\u001b[0m",
      "\u001b[1;31mTypeError\u001b[0m                                 Traceback (most recent call last)",
      "\u001b[1;32m<ipython-input-29-01716a1b93f2>\u001b[0m in \u001b[0;36m<module>\u001b[1;34m()\u001b[0m\n\u001b[0;32m     58\u001b[0m \u001b[0mnum_iterations\u001b[0m \u001b[1;33m=\u001b[0m \u001b[1;36m50\u001b[0m\u001b[1;33m\u001b[0m\u001b[0m\n\u001b[0;32m     59\u001b[0m \u001b[0mprice_history\u001b[0m \u001b[1;33m=\u001b[0m \u001b[0mnp\u001b[0m\u001b[1;33m.\u001b[0m\u001b[0mzeros\u001b[0m\u001b[1;33m(\u001b[0m\u001b[1;33m(\u001b[0m\u001b[0mlen\u001b[0m\u001b[1;33m(\u001b[0m\u001b[0mitems\u001b[0m\u001b[1;33m[\u001b[0m\u001b[1;36m0\u001b[0m\u001b[1;33m]\u001b[0m\u001b[1;33m.\u001b[0m\u001b[0mprice_history\u001b[0m\u001b[1;33m)\u001b[0m\u001b[1;33m,\u001b[0m \u001b[1;36m36\u001b[0m\u001b[1;33m)\u001b[0m\u001b[1;33m)\u001b[0m\u001b[1;33m\u001b[0m\u001b[0m\n\u001b[1;32m---> 60\u001b[1;33m \u001b[0mitems_to_train\u001b[0m \u001b[1;33m=\u001b[0m \u001b[0mnp\u001b[0m\u001b[1;33m.\u001b[0m\u001b[0mzeros\u001b[0m\u001b[1;33m[\u001b[0m\u001b[1;36m4\u001b[0m\u001b[1;33m,\u001b[0m \u001b[1;36m36\u001b[0m\u001b[1;33m]\u001b[0m\u001b[1;33m\u001b[0m\u001b[0m\n\u001b[0m\u001b[0;32m     61\u001b[0m \u001b[1;32mfor\u001b[0m \u001b[0mi\u001b[0m \u001b[1;32min\u001b[0m \u001b[0mrange\u001b[0m\u001b[1;33m(\u001b[0m\u001b[1;36m36\u001b[0m\u001b[1;33m)\u001b[0m\u001b[1;33m:\u001b[0m\u001b[1;33m\u001b[0m\u001b[0m\n\u001b[0;32m     62\u001b[0m     \u001b[0mitems_to_train\u001b[0m\u001b[1;33m[\u001b[0m\u001b[0mi\u001b[0m\u001b[1;33m+\u001b[0m\u001b[1;36m1\u001b[0m\u001b[1;33m]\u001b[0m\u001b[1;33m[\u001b[0m\u001b[1;36m1\u001b[0m\u001b[1;33m]\u001b[0m \u001b[1;33m=\u001b[0m \u001b[0mitems\u001b[0m\u001b[1;33m[\u001b[0m\u001b[0mi\u001b[0m\u001b[1;33m]\u001b[0m\u001b[1;33m.\u001b[0m\u001b[0mdata\u001b[0m\u001b[1;33m[\u001b[0m\u001b[1;36m0\u001b[0m\u001b[1;33m]\u001b[0m\u001b[1;33m\u001b[0m\u001b[0m\n",
      "\u001b[1;31mTypeError\u001b[0m: 'builtin_function_or_method' object is not subscriptable"
     ]
    }
   ],
   "source": [
    "# %load DataReader.py\n",
    "import xlrd\n",
    "import json\n",
    "from pprint import pprint\n",
    "import matplotlib.pyplot as plt\n",
    "import numpy as np\n",
    "from sklearn import linear_model\n",
    "\n",
    "class item(): #Our objects of items with their features\n",
    "\n",
    "    def __init__(self, name, price_history, weapon_type, rarity, wear, stattrak):\n",
    "\n",
    "        self.name = name\n",
    "        self.price_history = price_history['prices']\n",
    "        self.weapon_type = weapon_type\n",
    "        self.rarity = rarity\n",
    "        self.wear = wear\n",
    "        self.stattrak = stattrak\n",
    "        self.data = [weapon_type, rarity, wear, stattrak]\n",
    "        self.target = price_history\n",
    "\n",
    "\n",
    "def makeItems():\n",
    "    print(\"Making items...\")\n",
    "    checker = \" \" #checker will later be set to value in excel file\n",
    "    item_array = [] #our array our objects\n",
    "    wears = [\"Battle-Scarred\", \"Well-Worn\", \"Field-Tested\", \"Minimal Wear\", \"Factory New\"]\n",
    "    y = 1\n",
    "    while(checker != \"NULL\"):  #checks to see if we are at end of excel file\n",
    "        if(str(sheet.cell_value(y, 0)) != \"NULL\"):\n",
    "            wep_wear = wears[int((sheet.cell_value(y, 4)) - 1)]\n",
    "            string = str((sheet.cell_value(y, 0)) + \" - \" + str(wep_wear)) \n",
    "            with open(\"data points/\" + string + \".json\") as data_file: #opens a json file that has the same name as the name attribute\n",
    "                data = json.load(data_file) #loads the content of file, which contains an array of its pricing history\n",
    "                #print(data)\n",
    "            prices = data\n",
    "            thing = item(sheet.cell_value(y, 0), prices, sheet.cell_value(y, 2), sheet.cell_value(y, 3), sheet.cell_value(y, 4), sheet.cell_value(y, 5)) #create an object with all of the dat from json and excel file\n",
    "            item_array.append(thing) #append it to our object list\n",
    "            \n",
    "        y = y + 1 #increment and update our checker for the end of the file\n",
    "        checker = sheet.cell_value(y, 0)\n",
    "    print(\"Finished!\")\n",
    "    return item_array\n",
    "\n",
    "\n",
    "\n",
    "\n",
    "\n",
    "\n",
    "file_location = \"C:/Users/ForceM/AppData/Local/Programs/Python/Python35-32/item_prices/DataReader.xlsx\" #opens a excel file with our data\n",
    "print(\"Data Found!\")\n",
    "workbook = xlrd.open_workbook(file_location)\n",
    "sheet = workbook.sheet_by_index(0)\n",
    "items = []\n",
    "items = makeItems()\n",
    "print(\"Learning...\")\n",
    "learning_rate = 0.001\n",
    "num_iterations = 50\n",
    "price_history = np.zeros((len(items[0].price_history), 36))\n",
    "items_to_train = np.zeros[4, 36]\n",
    "for i in range(36):\n",
    "    items_to_train[i+1][1] = items[i].data[0]\n",
    "    items_to_train[i+1][2] = items[i].data[1]\n",
    "    items_to_train[i+1][3] = items[i].data[2]\n",
    "    items_to_train[i+1][4] = items[i].data[3]\n",
    "    for j in range(len(item[0].price_history)):\n",
    "        price_history[i+1][j+1] = items[i].price_history[j][1]\n",
    "items_X_train = np.matrix(items_to_train)\n",
    "items_Y_train = price_history\n",
    "regr = linear_model.LinearRegression()\n",
    "regr.fit(items_X_train, items_Y_train)\n",
    "\n",
    "\n"
   ]
  },
  {
   "cell_type": "code",
   "execution_count": 6,
   "metadata": {
    "scrolled": true
   },
   "outputs": [
    {
     "name": "stdout",
     "output_type": "stream",
     "text": [
      "5\n"
     ]
    }
   ],
   "source": [
    "print(5)"
   ]
  }
 ],
 "metadata": {
  "kernelspec": {
   "display_name": "Python 3",
   "language": "python",
   "name": "python3"
  },
  "language_info": {
   "codemirror_mode": {
    "name": "ipython",
    "version": 3
   },
   "file_extension": ".py",
   "mimetype": "text/x-python",
   "name": "python",
   "nbconvert_exporter": "python",
   "pygments_lexer": "ipython3",
   "version": "3.6.1"
  }
 },
 "nbformat": 4,
 "nbformat_minor": 2
}
